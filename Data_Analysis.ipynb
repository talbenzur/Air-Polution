{
 "cells": [
  {
   "cell_type": "code",
   "execution_count": 1,
   "metadata": {},
   "outputs": [],
   "source": [
    "import bs4\n",
    "from bs4 import BeautifulSoup  \n",
    "import pandas as pd\n",
    "import scipy as sc\n",
    "import numpy as np\n",
    "import requests\n",
    "import csv\n",
    "import re "
   ]
  },
  {
   "cell_type": "code",
   "execution_count": 2,
   "metadata": {},
   "outputs": [
    {
     "data": {
      "text/html": [
       "<div>\n",
       "<style scoped>\n",
       "    .dataframe tbody tr th:only-of-type {\n",
       "        vertical-align: middle;\n",
       "    }\n",
       "\n",
       "    .dataframe tbody tr th {\n",
       "        vertical-align: top;\n",
       "    }\n",
       "\n",
       "    .dataframe thead th {\n",
       "        text-align: right;\n",
       "    }\n",
       "</style>\n",
       "<table border=\"1\" class=\"dataframe\">\n",
       "  <thead>\n",
       "    <tr style=\"text-align: right;\">\n",
       "      <th></th>\n",
       "      <th>AQI</th>\n",
       "      <th>Temperature</th>\n",
       "      <th>Humidity</th>\n",
       "      <th>Wind</th>\n",
       "      <th>Pressure</th>\n",
       "      <th>City</th>\n",
       "      <th>State</th>\n",
       "      <th>Country</th>\n",
       "    </tr>\n",
       "  </thead>\n",
       "  <tbody>\n",
       "    <tr>\n",
       "      <th>0</th>\n",
       "      <td>29.0</td>\n",
       "      <td>14</td>\n",
       "      <td>37</td>\n",
       "      <td>105</td>\n",
       "      <td>1015</td>\n",
       "      <td>Ashkasham</td>\n",
       "      <td>Badakhshan</td>\n",
       "      <td>Afghanistan</td>\n",
       "    </tr>\n",
       "    <tr>\n",
       "      <th>1</th>\n",
       "      <td>42.0</td>\n",
       "      <td>29</td>\n",
       "      <td>23</td>\n",
       "      <td>86</td>\n",
       "      <td>1005</td>\n",
       "      <td>BazareTashkan</td>\n",
       "      <td>Badakhshan</td>\n",
       "      <td>Afghanistan</td>\n",
       "    </tr>\n",
       "    <tr>\n",
       "      <th>2</th>\n",
       "      <td>42.0</td>\n",
       "      <td>22</td>\n",
       "      <td>26</td>\n",
       "      <td>52</td>\n",
       "      <td>1005</td>\n",
       "      <td>HafizMoghul</td>\n",
       "      <td>Badakhshan</td>\n",
       "      <td>Afghanistan</td>\n",
       "    </tr>\n",
       "    <tr>\n",
       "      <th>3</th>\n",
       "      <td>42.0</td>\n",
       "      <td>18</td>\n",
       "      <td>40</td>\n",
       "      <td>134</td>\n",
       "      <td>1013</td>\n",
       "      <td>KuranwaMunjan</td>\n",
       "      <td>Badakhshan</td>\n",
       "      <td>Afghanistan</td>\n",
       "    </tr>\n",
       "    <tr>\n",
       "      <th>4</th>\n",
       "      <td>42.0</td>\n",
       "      <td>31</td>\n",
       "      <td>21</td>\n",
       "      <td>85</td>\n",
       "      <td>1004</td>\n",
       "      <td>Mashhad</td>\n",
       "      <td>Badakhshan</td>\n",
       "      <td>Afghanistan</td>\n",
       "    </tr>\n",
       "    <tr>\n",
       "      <th>...</th>\n",
       "      <td>...</td>\n",
       "      <td>...</td>\n",
       "      <td>...</td>\n",
       "      <td>...</td>\n",
       "      <td>...</td>\n",
       "      <td>...</td>\n",
       "      <td>...</td>\n",
       "      <td>...</td>\n",
       "    </tr>\n",
       "    <tr>\n",
       "      <th>58628</th>\n",
       "      <td>46.0</td>\n",
       "      <td>20</td>\n",
       "      <td>25</td>\n",
       "      <td>83</td>\n",
       "      <td>1019</td>\n",
       "      <td>Beitbridge</td>\n",
       "      <td>MatabelelandSouth</td>\n",
       "      <td>Zimbabwe</td>\n",
       "    </tr>\n",
       "    <tr>\n",
       "      <th>58629</th>\n",
       "      <td>42.0</td>\n",
       "      <td>15</td>\n",
       "      <td>14</td>\n",
       "      <td>41</td>\n",
       "      <td>1021</td>\n",
       "      <td>Kwekwe</td>\n",
       "      <td>Midlands</td>\n",
       "      <td>Zimbabwe</td>\n",
       "    </tr>\n",
       "    <tr>\n",
       "      <th>58630</th>\n",
       "      <td>53.0</td>\n",
       "      <td>15</td>\n",
       "      <td>21</td>\n",
       "      <td>78</td>\n",
       "      <td>1021</td>\n",
       "      <td>Plumtree</td>\n",
       "      <td>MatabelelandSouth</td>\n",
       "      <td>Zimbabwe</td>\n",
       "    </tr>\n",
       "    <tr>\n",
       "      <th>58631</th>\n",
       "      <td>42.0</td>\n",
       "      <td>13</td>\n",
       "      <td>18</td>\n",
       "      <td>99</td>\n",
       "      <td>1022</td>\n",
       "      <td>Mvuma</td>\n",
       "      <td>Midlands</td>\n",
       "      <td>Zimbabwe</td>\n",
       "    </tr>\n",
       "    <tr>\n",
       "      <th>58632</th>\n",
       "      <td>42.0</td>\n",
       "      <td>14</td>\n",
       "      <td>18</td>\n",
       "      <td>8</td>\n",
       "      <td>1022</td>\n",
       "      <td>Lalapanzi</td>\n",
       "      <td>Midlands</td>\n",
       "      <td>Zimbabwe</td>\n",
       "    </tr>\n",
       "  </tbody>\n",
       "</table>\n",
       "<p>58633 rows × 8 columns</p>\n",
       "</div>"
      ],
      "text/plain": [
       "        AQI  Temperature  Humidity  Wind  Pressure           City  \\\n",
       "0      29.0           14        37   105      1015      Ashkasham   \n",
       "1      42.0           29        23    86      1005  BazareTashkan   \n",
       "2      42.0           22        26    52      1005    HafizMoghul   \n",
       "3      42.0           18        40   134      1013  KuranwaMunjan   \n",
       "4      42.0           31        21    85      1004        Mashhad   \n",
       "...     ...          ...       ...   ...       ...            ...   \n",
       "58628  46.0           20        25    83      1019     Beitbridge   \n",
       "58629  42.0           15        14    41      1021         Kwekwe   \n",
       "58630  53.0           15        21    78      1021       Plumtree   \n",
       "58631  42.0           13        18    99      1022          Mvuma   \n",
       "58632  42.0           14        18     8      1022      Lalapanzi   \n",
       "\n",
       "                   State      Country  \n",
       "0             Badakhshan  Afghanistan  \n",
       "1             Badakhshan  Afghanistan  \n",
       "2             Badakhshan  Afghanistan  \n",
       "3             Badakhshan  Afghanistan  \n",
       "4             Badakhshan  Afghanistan  \n",
       "...                  ...          ...  \n",
       "58628  MatabelelandSouth     Zimbabwe  \n",
       "58629           Midlands     Zimbabwe  \n",
       "58630  MatabelelandSouth     Zimbabwe  \n",
       "58631           Midlands     Zimbabwe  \n",
       "58632           Midlands     Zimbabwe  \n",
       "\n",
       "[58633 rows x 8 columns]"
      ]
     },
     "execution_count": 2,
     "metadata": {},
     "output_type": "execute_result"
    }
   ],
   "source": [
    "df = pd.read_csv (r'Final_Data.csv',sep=\",\")\n",
    "df.drop(\"Unnamed: 0\",axis='columns', inplace=True)\n",
    "df"
   ]
  },
  {
   "cell_type": "markdown",
   "metadata": {},
   "source": [
    "Relationships between variables"
   ]
  },
  {
   "cell_type": "code",
   "execution_count": 3,
   "metadata": {},
   "outputs": [],
   "source": [
    "from matplotlib import pyplot as plt\n",
    "import matplotlib as mpl\n",
    "import seaborn as sns\n",
    "%matplotlib inline"
   ]
  },
  {
   "cell_type": "code",
   "execution_count": 4,
   "metadata": {},
   "outputs": [
    {
     "data": {
      "text/plain": [
       "<matplotlib.collections.PathCollection at 0x2186c4e64c0>"
      ]
     },
     "execution_count": 4,
     "metadata": {},
     "output_type": "execute_result"
    },
    {
     "data": {
      "image/png": "[encoded data removed]",
      "text/plain": [
       "<Figure size 432x288 with 1 Axes>"
      ]
     },
     "metadata": {
      "needs_background": "light"
     },
     "output_type": "display_data"
    }
   ],
   "source": [
    "plt.scatter(df.AQI, df.Temperature)"
   ]
  },
  {
   "cell_type": "code",
   "execution_count": 5,
   "metadata": {},
   "outputs": [
    {
     "data": {
      "text/plain": [
       "<matplotlib.collections.PathCollection at 0x2186c810070>"
      ]
     },
     "execution_count": 5,
     "metadata": {},
     "output_type": "execute_result"
    },
    {
     "data": {
      "image/png": "[encoded data removed]",
      "text/plain": [
       "<Figure size 432x288 with 1 Axes>"
      ]
     },
     "metadata": {
      "needs_background": "light"
     },
     "output_type": "display_data"
    }
   ],
   "source": [
    "plt.scatter(df.AQI, df.Humidity)"
   ]
  },
  {
   "cell_type": "code",
   "execution_count": 6,
   "metadata": {},
   "outputs": [
    {
     "data": {
      "text/plain": [
       "<matplotlib.collections.PathCollection at 0x2186c874190>"
      ]
     },
     "execution_count": 6,
     "metadata": {},
     "output_type": "execute_result"
    },
    {
     "data": {
      "image/png": "[encoded data removed]",
      "text/plain": [
       "<Figure size 432x288 with 1 Axes>"
      ]
     },
     "metadata": {
      "needs_background": "light"
     },
     "output_type": "display_data"
    }
   ],
   "source": [
    "plt.scatter(df.AQI, df.Wind)"
   ]
  },
  {
   "cell_type": "code",
   "execution_count": 7,
   "metadata": {},
   "outputs": [
    {
     "data": {
      "text/plain": [
       "<matplotlib.collections.PathCollection at 0x2186c8dfd00>"
      ]
     },
     "execution_count": 7,
     "metadata": {},
     "output_type": "execute_result"
    },
    {
     "data": {
      "image/png": "[encoded data removed]",
      "text/plain": [
       "<Figure size 432x288 with 1 Axes>"
      ]
     },
     "metadata": {
      "needs_background": "light"
     },
     "output_type": "display_data"
    }
   ],
   "source": [
    "plt.scatter(df.AQI, df.Pressure)"
   ]
  },
  {
   "cell_type": "markdown",
   "metadata": {},
   "source": [
    "Cut AQI levels, and how many there are in each level"
   ]
  },
  {
   "cell_type": "code",
   "execution_count": 8,
   "metadata": {},
   "outputs": [
    {
     "data": {
      "text/plain": [
       "(-1.357, 226.167]      58581\n",
       "(226.167, 452.333]         7\n",
       "(1130.833, 1357.0]         1\n",
       "(904.667, 1130.833]        0\n",
       "(678.5, 904.667]           0\n",
       "(452.333, 678.5]           0\n",
       "Name: AQI, dtype: int64"
      ]
     },
     "execution_count": 8,
     "metadata": {},
     "output_type": "execute_result"
    }
   ],
   "source": [
    "pd.cut(df[\"AQI\"],bins=6).value_counts()"
   ]
  },
  {
   "cell_type": "code",
   "execution_count": null,
   "metadata": {},
   "outputs": [],
   "source": [
    "plt.hist(df[\"AQI\"],bins=6)"
   ]
  },
  {
   "cell_type": "markdown",
   "metadata": {},
   "source": [
    "probability to \"Good\" AQI:"
   ]
  },
  {
   "cell_type": "code",
   "execution_count": null,
   "metadata": {},
   "outputs": [],
   "source": [
    "df.AQI[df.AQI<50].count() / df.AQI.count()"
   ]
  },
  {
   "cell_type": "markdown",
   "metadata": {},
   "source": [
    "probability to \"Unhealthy\" AQI:"
   ]
  },
  {
   "cell_type": "code",
   "execution_count": null,
   "metadata": {},
   "outputs": [],
   "source": [
    "df.AQI[100<df.AQI<150].count() / df.AQI.count()"
   ]
  },
  {
   "cell_type": "markdown",
   "metadata": {},
   "source": [
    "Add a column (0,1) if the AQI is OK.(1- not ok, 0-ok)"
   ]
  },
  {
   "cell_type": "code",
   "execution_count": null,
   "metadata": {},
   "outputs": [],
   "source": [
    "IS_OK=list()\n",
    "for row in df[\"AQI\"]:\n",
    "    if(row>150):\n",
    "        IS_OK.append(1)\n",
    "    else:\n",
    "        IS_OK.append(0)\n",
    "df['Is_AQI_OK']=IS_OK"
   ]
  },
  {
   "cell_type": "code",
   "execution_count": null,
   "metadata": {},
   "outputs": [],
   "source": [
    "ct1=pd.crosstab(df[\"Temperature\"],df['Is_AQI_OK'] )\n",
    "ct1"
   ]
  },
  {
   "cell_type": "code",
   "execution_count": null,
   "metadata": {},
   "outputs": [],
   "source": [
    "ct2=pd.crosstab(df[\"Temperature\"],df['Is_AQI_OK'] , normalize='index')\n",
    "ct2"
   ]
  },
  {
   "cell_type": "code",
   "execution_count": null,
   "metadata": {},
   "outputs": [],
   "source": [
    "ct2.plot(kind='bar', figsize=(5,2))\n",
    "\n",
    "plt.title('AQI VS Temperature', fontsize=10)\n",
    "plt.xlable('Is_AQI_OK')\n",
    "plt.ylable('Temperature')"
   ]
  },
  {
   "cell_type": "code",
   "execution_count": null,
   "metadata": {},
   "outputs": [],
   "source": []
  },
  {
   "cell_type": "code",
   "execution_count": null,
   "metadata": {},
   "outputs": [],
   "source": []
  },
  {
   "cell_type": "code",
   "execution_count": null,
   "metadata": {},
   "outputs": [],
   "source": []
  }
 ],
 "metadata": {
  "kernelspec": {
   "display_name": "Python 3",
   "language": "python",
   "name": "python3"
  },
  "language_info": {
   "codemirror_mode": {
    "name": "ipython",
    "version": 3
   },
   "file_extension": ".py",
   "mimetype": "text/x-python",
   "name": "python",
   "nbconvert_exporter": "python",
   "pygments_lexer": "ipython3",
   "version": "3.8.5"
  }
 },
 "nbformat": 4,
 "nbformat_minor": 4
}
